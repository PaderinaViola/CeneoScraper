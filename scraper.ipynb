{
 "cells": [
  {
   "cell_type": "markdown",
   "metadata": {},
   "source": [
    "### Import"
   ]
  },
  {
   "cell_type": "code",
   "execution_count": 75,
   "metadata": {},
   "outputs": [],
   "source": [
    "import os\n",
    "import json\n",
    "import requests\n",
    "from bs4 import BeautifulSoup"
   ]
  },
  {
   "cell_type": "markdown",
   "metadata": {},
   "source": [
    "### Extraction of opinion"
   ]
  },
  {
   "cell_type": "code",
   "execution_count": 76,
   "metadata": {},
   "outputs": [],
   "source": [
    "with open('./cookie.json','r', encoding=\"UTF-8\") as jf:\n",
    "    headers = json.load(jf)"
   ]
  },
  {
   "cell_type": "code",
   "execution_count": 78,
   "metadata": {},
   "outputs": [
    {
     "name": "stdout",
     "output_type": "stream",
     "text": [
      "[{'opinion_id': '15931128', 'author': 'm...a', 'recommend': 'Polecam', 'stars': '5/5', 'content': 'Za te pieniądze jedna z lepszych na rynku. Co prawda poziom wykonania to nie jest Martin, ale jakość tej gitary kryje się w jej brzmieniu i wygodzie gry. To ten typ gitary, której nie chce się wypuszczać z rąk, i gra się dalej, aż do zmęczenia, które dzięki świetnej optymalizacji gryfu, akcji strun i pudła rezonansowego wcale tak szybko nie przyjdzie. Dla osób początkujących gitara na medal. Bardzo żywa, wyraźna dynamika. Dźwięk jest bardzo czytelny, pełny, śpiewny. Nie ma w niej tego \"pudełkowatego\" i płaskiego dołu i środka znanego z badziewnych tanich gitar. Poprawnie oddaje wszelkie zabiegi artykulacyjne, także czy to gra akordowa kostką czy fingerstyle, to i tak gra sprawia wiele radości. No to jest Yamaha, a w kwestii gitar ta firma trzyma poziom. Polecam i wracam do grania:)', 'pros': ['brzmienie', 'cena', 'jak dla mnie mało wygodna', 'jakość', 'jakość wykonania', 'ładnie pachnie', 'ładny dźwięk', 'nie stwierdziłem', 'porządne wykonanie', 'solidność konstrukcji', 'stosunek cena-jakość', 'trzymanie stroju', 'wygląd'], 'cons': [], 'up_votes': '1', 'down_votes': '0', 'published': '2022-04-07 14:51:35', 'purchased': '2022-04-03 22:30:33'}, {'opinion_id': '11462050', 'author': 'Olena', 'recommend': 'Polecam', 'stars': '5/5', 'content': 'Mąż bardzo zadowolony !!! Najlepsza jego gitara !!!', 'pros': [], 'cons': [], 'up_votes': '3', 'down_votes': '0', 'published': '2019-12-20 10:24:14', 'purchased': '2019-12-11 14:42:36'}, {'opinion_id': '14254349', 'author': 'ranetka', 'recommend': 'Polecam', 'stars': '4,5/5', 'content': 'Chyba trzeba zamienić struny.... Gitara super 🤟🤟🤟', 'pros': ['cena', 'jakość', 'wygląd'], 'cons': ['brzmienie'], 'up_votes': '0', 'down_votes': '1', 'published': '2021-04-08 13:44:35', 'purchased': '2021-03-28 20:51:13'}, {'opinion_id': '13448953', 'author': 'o...a', 'recommend': 'Polecam', 'stars': '5/5', 'content': 'Super', 'pros': ['brzmienie', 'cena', 'jakość', 'wygląd'], 'cons': [], 'up_votes': '1', 'down_votes': '0', 'published': '2020-11-25 23:34:10', 'purchased': '2020-11-20 17:23:20'}, {'opinion_id': '3523630', 'author': 'Mały', 'recommend': 'Polecam', 'stars': '4,5/5', 'content': 'Gram na gitarach wszelkiej maści od ponad 34 lat. Akustyki, elektroakustyki, elektryczne - znane firmy, mniej znane. I tańsze i całkiem drogie. Posiadam w domu kilka gitar, w tym jedną z wyższej półki (Alvarez, elektroakustyk za ponad 3400 złotych), gram często, czynnie w kilku zespołach. o czego zmierzam? Kupiłem TĄ gitarę znajomemu do nauki gry. Dziś byłem u niego, otrzymał w końcu przesyłkę. Moje zdumienie i zaskoczenie widać chyba było bo zapytał niepewnie: I co? Powiem krótko: jeśli ktokolwiek chce kupić gitarę do nauki gry, do grania na codzień a NAWET dla tych bardziej zaawansowanych, to bierzecie w ciemno. To naprawdę bardzo dobra gitara! Za takie pieniądze? Jestem zdumiony i tyle. Zdecydowanie polecam', 'pros': ['brzmienie', 'jakość', 'wygląd'], 'cons': [], 'up_votes': '31', 'down_votes': '2', 'published': '2016-01-09 23:32:53', 'purchased': None}, {'opinion_id': '6482310', 'author': 'Dorota', 'recommend': 'Polecam', 'stars': '5/5', 'content': 'Pierwsza gitara w fazie nauki i testowania. Jednakże pierwsze wrażenia są pozytywne. Do gitary należy dokupić potrzebne gadżety np. pas, stroik, piórka, podnóżek itd. Wystarczy ćwiczyć sukcesywnie i wytrwale a sukces to kwestia czasu. Polecam!', 'pros': ['brzmienie', 'cena', 'jak dla mnie mało wygodna', 'jakość', 'ładny dźwięk', 'porządne wykonanie', 'stosunek cena-jakość', 'wygląd'], 'cons': [], 'up_votes': '1', 'down_votes': '0', 'published': '2018-01-17 09:33:32', 'purchased': '2017-12-31 22:25:28'}, {'opinion_id': '12778034', 'author': 'c...k', 'recommend': 'Polecam', 'stars': '5/5', 'content': 'Barwny i gleboki dzwiek, pieknie tez wyglada. Znajomy fachowiec tez polecil po porownaniu z innych gitar w podobnej cenie. Jak dla poczatkujacych, bardzo przyjemna gitara, palce tez nie tak bardzo bola nawet przy dluzszym czasu grania.', 'pros': [], 'cons': [], 'up_votes': '1', 'down_votes': '0', 'published': '2020-07-08 21:19:53', 'purchased': '2020-06-28 12:39:50'}, {'opinion_id': '6732149', 'author': 'Darko', 'recommend': 'Polecam', 'stars': '5/5', 'content': 'Bardzo fajna gitara. Mogę potwierdzić pozytywne opinie, które krążą po sieci: staranne wykonanie, ładny dźwięk, kawał dobrej gitary. Szczerze polecam.', 'pros': [], 'cons': [], 'up_votes': '2', 'down_votes': '0', 'published': '2018-03-19 10:01:09', 'purchased': '2018-03-09 10:45:15'}, {'opinion_id': '8856055', 'author': 'Dawid', 'recommend': 'Polecam', 'stars': '5/5', 'content': 'Bardzo fajna gitara jak dla osoby początkującej. Dobrze leży w dłoniach i ma świetne brzmienie. Poza tym jest starannie wykonana i świetnie się prezentuje. Polecam serdecznie.', 'pros': [], 'cons': [], 'up_votes': '1', 'down_votes': '0', 'published': '2019-01-03 16:46:49', 'purchased': '2018-11-28 00:39:20'}, {'opinion_id': '3866440', 'author': 'Wojtek', 'recommend': 'Polecam', 'stars': '5/5', 'content': 'Za tą cenę bardzo dobra gitarka.  Brzmi porównywalnie do gitar droższych o 200, 300zł droższych.\\r\\nŚwietny wybór na pierwszego akustyka.', 'pros': ['brzmienie', 'jakość', 'wygląd'], 'cons': [], 'up_votes': '1', 'down_votes': '0', 'published': '2016-08-05 19:38:09', 'purchased': '2016-07-24 16:40:07'}]\n",
      "[{'opinion_id': '15931128', 'author': 'm...a', 'recommend': 'Polecam', 'stars': '5/5', 'content': 'Za te pieniądze jedna z lepszych na rynku. Co prawda poziom wykonania to nie jest Martin, ale jakość tej gitary kryje się w jej brzmieniu i wygodzie gry. To ten typ gitary, której nie chce się wypuszczać z rąk, i gra się dalej, aż do zmęczenia, które dzięki świetnej optymalizacji gryfu, akcji strun i pudła rezonansowego wcale tak szybko nie przyjdzie. Dla osób początkujących gitara na medal. Bardzo żywa, wyraźna dynamika. Dźwięk jest bardzo czytelny, pełny, śpiewny. Nie ma w niej tego \"pudełkowatego\" i płaskiego dołu i środka znanego z badziewnych tanich gitar. Poprawnie oddaje wszelkie zabiegi artykulacyjne, także czy to gra akordowa kostką czy fingerstyle, to i tak gra sprawia wiele radości. No to jest Yamaha, a w kwestii gitar ta firma trzyma poziom. Polecam i wracam do grania:)', 'pros': ['brzmienie', 'cena', 'jak dla mnie mało wygodna', 'jakość', 'jakość wykonania', 'ładnie pachnie', 'ładny dźwięk', 'nie stwierdziłem', 'porządne wykonanie', 'solidność konstrukcji', 'stosunek cena-jakość', 'trzymanie stroju', 'wygląd'], 'cons': [], 'up_votes': '1', 'down_votes': '0', 'published': '2022-04-07 14:51:35', 'purchased': '2022-04-03 22:30:33'}, {'opinion_id': '11462050', 'author': 'Olena', 'recommend': 'Polecam', 'stars': '5/5', 'content': 'Mąż bardzo zadowolony !!! Najlepsza jego gitara !!!', 'pros': [], 'cons': [], 'up_votes': '3', 'down_votes': '0', 'published': '2019-12-20 10:24:14', 'purchased': '2019-12-11 14:42:36'}, {'opinion_id': '14254349', 'author': 'ranetka', 'recommend': 'Polecam', 'stars': '4,5/5', 'content': 'Chyba trzeba zamienić struny.... Gitara super 🤟🤟🤟', 'pros': ['cena', 'jakość', 'wygląd'], 'cons': ['brzmienie'], 'up_votes': '0', 'down_votes': '1', 'published': '2021-04-08 13:44:35', 'purchased': '2021-03-28 20:51:13'}, {'opinion_id': '13448953', 'author': 'o...a', 'recommend': 'Polecam', 'stars': '5/5', 'content': 'Super', 'pros': ['brzmienie', 'cena', 'jakość', 'wygląd'], 'cons': [], 'up_votes': '1', 'down_votes': '0', 'published': '2020-11-25 23:34:10', 'purchased': '2020-11-20 17:23:20'}, {'opinion_id': '3523630', 'author': 'Mały', 'recommend': 'Polecam', 'stars': '4,5/5', 'content': 'Gram na gitarach wszelkiej maści od ponad 34 lat. Akustyki, elektroakustyki, elektryczne - znane firmy, mniej znane. I tańsze i całkiem drogie. Posiadam w domu kilka gitar, w tym jedną z wyższej półki (Alvarez, elektroakustyk za ponad 3400 złotych), gram często, czynnie w kilku zespołach. o czego zmierzam? Kupiłem TĄ gitarę znajomemu do nauki gry. Dziś byłem u niego, otrzymał w końcu przesyłkę. Moje zdumienie i zaskoczenie widać chyba było bo zapytał niepewnie: I co? Powiem krótko: jeśli ktokolwiek chce kupić gitarę do nauki gry, do grania na codzień a NAWET dla tych bardziej zaawansowanych, to bierzecie w ciemno. To naprawdę bardzo dobra gitara! Za takie pieniądze? Jestem zdumiony i tyle. Zdecydowanie polecam', 'pros': ['brzmienie', 'jakość', 'wygląd'], 'cons': [], 'up_votes': '31', 'down_votes': '2', 'published': '2016-01-09 23:32:53', 'purchased': None}, {'opinion_id': '6482310', 'author': 'Dorota', 'recommend': 'Polecam', 'stars': '5/5', 'content': 'Pierwsza gitara w fazie nauki i testowania. Jednakże pierwsze wrażenia są pozytywne. Do gitary należy dokupić potrzebne gadżety np. pas, stroik, piórka, podnóżek itd. Wystarczy ćwiczyć sukcesywnie i wytrwale a sukces to kwestia czasu. Polecam!', 'pros': ['brzmienie', 'cena', 'jak dla mnie mało wygodna', 'jakość', 'ładny dźwięk', 'porządne wykonanie', 'stosunek cena-jakość', 'wygląd'], 'cons': [], 'up_votes': '1', 'down_votes': '0', 'published': '2018-01-17 09:33:32', 'purchased': '2017-12-31 22:25:28'}, {'opinion_id': '12778034', 'author': 'c...k', 'recommend': 'Polecam', 'stars': '5/5', 'content': 'Barwny i gleboki dzwiek, pieknie tez wyglada. Znajomy fachowiec tez polecil po porownaniu z innych gitar w podobnej cenie. Jak dla poczatkujacych, bardzo przyjemna gitara, palce tez nie tak bardzo bola nawet przy dluzszym czasu grania.', 'pros': [], 'cons': [], 'up_votes': '1', 'down_votes': '0', 'published': '2020-07-08 21:19:53', 'purchased': '2020-06-28 12:39:50'}, {'opinion_id': '6732149', 'author': 'Darko', 'recommend': 'Polecam', 'stars': '5/5', 'content': 'Bardzo fajna gitara. Mogę potwierdzić pozytywne opinie, które krążą po sieci: staranne wykonanie, ładny dźwięk, kawał dobrej gitary. Szczerze polecam.', 'pros': [], 'cons': [], 'up_votes': '2', 'down_votes': '0', 'published': '2018-03-19 10:01:09', 'purchased': '2018-03-09 10:45:15'}, {'opinion_id': '8856055', 'author': 'Dawid', 'recommend': 'Polecam', 'stars': '5/5', 'content': 'Bardzo fajna gitara jak dla osoby początkującej. Dobrze leży w dłoniach i ma świetne brzmienie. Poza tym jest starannie wykonana i świetnie się prezentuje. Polecam serdecznie.', 'pros': [], 'cons': [], 'up_votes': '1', 'down_votes': '0', 'published': '2019-01-03 16:46:49', 'purchased': '2018-11-28 00:39:20'}, {'opinion_id': '3866440', 'author': 'Wojtek', 'recommend': 'Polecam', 'stars': '5/5', 'content': 'Za tą cenę bardzo dobra gitarka.  Brzmi porównywalnie do gitar droższych o 200, 300zł droższych.\\r\\nŚwietny wybór na pierwszego akustyka.', 'pros': ['brzmienie', 'jakość', 'wygląd'], 'cons': [], 'up_votes': '1', 'down_votes': '0', 'published': '2016-08-05 19:38:09', 'purchased': '2016-07-24 16:40:07'}]\n"
     ]
    }
   ],
   "source": [
    "product_id = \"17230358\"\n",
    "url = f\"https://www.ceneo.pl/{product_id}#tab=reviews\"\n",
    "all_opinions = []\n",
    "while url:\n",
    "    response = requests.get(url, headers = headers)\n",
    "    if response.status_code == 200:\n",
    "        page_dom = BeautifulSoup(response.text, 'html.parser')\n",
    "        opinions = page_dom.select(\"div.js_product-review:not(.user-post--highlight)\")\n",
    "        \n",
    "        for opinion in opinions:\n",
    "            single_opinion = {}\n",
    "            single_opinion['opinion_id'] = opinion[\"data-entry-id\"]\n",
    "            single_opinion['author'] = opinion.select_one(\"span.user-post__author-name\").text.strip()\n",
    "            try:\n",
    "                single_opinion['recommend'] = opinion.select_one(\"span.user-post__author-recomendation > em\").text.strip()\n",
    "            except AttributeError:\n",
    "                single_opinion['recommend'] = None\n",
    "            single_opinion['stars'] = opinion.select_one(\"span.user-post__score-count\").text.strip()\n",
    "            single_opinion['content'] = opinion.select_one(\"div.user-post__text\").text.strip()\n",
    "            single_opinion['pros'] = [tag.text.strip() for tag in opinion.select(\"div.review-feature__item--positive\")]\n",
    "            single_opinion['cons'] = [tag.text.strip() for tag in opinion.select(\"div.review-feature__item--negative\")]\n",
    "            single_opinion['up_votes'] = opinion.select_one(\"button.vote-yes\")[\"data-total-vote\"]\n",
    "            single_opinion['down_votes'] = opinion.select_one(\"button.vote-no\")[\"data-total-vote\"]\n",
    "            single_opinion['published'] = opinion.select_one(\"span.user-post__published > time:nth-child(1)\")[\"datetime\"]\n",
    "            try:\n",
    "                single_opinion['purchased'] = opinion.select_one(\"span.user-post__published > time:nth-child(2)\")[\"datetime\"]\n",
    "            except TypeError:\n",
    "                single_opinion['purchased'] = None\n",
    "            all_opinions.append(single_opinion)\n",
    "        try:\n",
    "            url = \"https://www.ceneo.pl\"+page_dom.select_one(\"a.pagination__next\")[\"href\"]\n",
    "        except TypeError:\n",
    "            url = None\n",
    "    print(all_opinions)"
   ]
  },
  {
   "cell_type": "code",
   "execution_count": 79,
   "metadata": {},
   "outputs": [],
   "source": [
    "if not os.path.exists(\"./opinions\"):\n",
    "    os.mkdir(\"./opinions\")"
   ]
  },
  {
   "cell_type": "code",
   "execution_count": 80,
   "metadata": {},
   "outputs": [],
   "source": [
    "with open(f\"./opinions/{product_id}.json\", \"w\", encoding=\"UTF-8\") as jf:\n",
    "    json.dump(all_opinions, jf, indent=4, ensure_ascii=False)"
   ]
  }
 ],
 "metadata": {
  "kernelspec": {
   "display_name": ".venv",
   "language": "python",
   "name": "python3"
  },
  "language_info": {
   "codemirror_mode": {
    "name": "ipython",
    "version": 3
   },
   "file_extension": ".py",
   "mimetype": "text/x-python",
   "name": "python",
   "nbconvert_exporter": "python",
   "pygments_lexer": "ipython3",
   "version": "3.11.4"
  }
 },
 "nbformat": 4,
 "nbformat_minor": 2
}
